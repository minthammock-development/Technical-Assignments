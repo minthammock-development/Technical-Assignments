{
  "nbformat": 4,
  "nbformat_minor": 0,
  "metadata": {
    "colab": {
      "name": "RealSelf BA test",
      "provenance": [],
      "mount_file_id": "1GWD0F4eUzWr81GQ0h-7ae2M9Us4_61K1",
      "authorship_tag": "ABX9TyMMHyA4+BcBXPh94KrYNni/",
      "include_colab_link": true
    },
    "kernelspec": {
      "name": "python3",
      "display_name": "Python 3"
    },
    "language_info": {
      "name": "python"
    }
  },
  "cells": [
    {
      "cell_type": "markdown",
      "metadata": {
        "id": "view-in-github",
        "colab_type": "text"
      },
      "source": [
        "<a href=\"https://colab.research.google.com/github/minthammock-development/Technical-Assignments/blob/main/RealSelf_BA_test.ipynb\" target=\"_parent\"><img src=\"https://colab.research.google.com/assets/colab-badge.svg\" alt=\"Open In Colab\"/></a>"
      ]
    },
    {
      "cell_type": "markdown",
      "metadata": {
        "id": "q6J-UOyew0BB"
      },
      "source": [
        "# Notes to the graders\n",
        "\n",
        "This is a google colab notebook and is useful for combining code and narrative to create analysis documents that flow. You can run the code in each cell by clicking on the play button in the top left corner of the cell window. Narrative cells do not have a play button and don't need to be run. Running the cells in order will recreate the calculations I did during my analysis live. If you have any questions, please email me at michaeljosephmahoney@gmail.com and I can clarify things. "
      ]
    },
    {
      "cell_type": "markdown",
      "metadata": {
        "id": "UjAgEx_ZWvJX"
      },
      "source": [
        "# RealSelf BA Test Question 1\n",
        "Queries\n"
      ]
    },
    {
      "cell_type": "code",
      "metadata": {
        "id": "OKxGca6nW-6f"
      },
      "source": [
        "#    -- Q1\n",
        "#    SELECT question_id\n",
        "#    FROM table_of_questions_by_created_date qc\n",
        "#    LEFT JOIN table_of_questions_and_tag_ids qt ON qc.question_id = qt.question_id\n",
        "#    WHERE qc.created LIKE 2018%\n",
        "#    AND tag_ids.tag_id LIKE \"pre-op\"\n",
        "#\n",
        "#    -- Q2\n",
        "#    SELECT tt.tag_name, MONTH(qc.created) AS months, SUM(qc.question_id) AS total_questions\n",
        "#    FROM table_of_questions_by_created_date qc\n",
        "#    LEFT JOIN table_of_questions_and_tag_ids qt ON qt.question_id = qc.question_id\n",
        "#    LEFT JOIN table_of_tags tt ON tt.tag_id = qt.tag_id\n",
        "#    WHERE YEAR(qc.created) > 2018\n",
        "#    ORDER BY months,tt.tag_name\n",
        "#\n",
        "#    -- Q3\n",
        "#    SELECT tt.tag_name, AVG(COUNT(*)) AS total\n",
        "#    FROM table_of_tags tt\n",
        "#    JOIN table_of_questions_and_tag_ids qt ON qt.tag_id = tt.tag_id\n",
        "#    JOIN (\n",
        "#      SELECT qc.question_id\n",
        "#      FROM table_of_questions_by_created_date qc\n",
        "#      WHERE (qc.created LIKE \"2018%\") OR (qc.created LIKE \"2019%\")\n",
        "#    )\n",
        "#    ON qc.question_id = qt.question_id\n",
        "#    GROUP BY tt.tag_name\n",
        "#    ORDER BY tt.tag_name DESC"
      ],
      "execution_count": 1,
      "outputs": []
    },
    {
      "cell_type": "markdown",
      "metadata": {
        "id": "rHml6eawjPAI"
      },
      "source": [
        "# RealSelf BA Test Question 2\n"
      ]
    },
    {
      "cell_type": "markdown",
      "metadata": {
        "id": "xaSH1atbCTx5"
      },
      "source": [
        "\n",
        "## Import Python Data Analysis Libraries"
      ]
    },
    {
      "cell_type": "code",
      "metadata": {
        "id": "Mvw7qJTyiqU_"
      },
      "source": [
        "import pandas as pd\n",
        "import numpy as np"
      ],
      "execution_count": 2,
      "outputs": []
    },
    {
      "cell_type": "markdown",
      "metadata": {
        "id": "dw3n0MNHjgMt"
      },
      "source": [
        "## Read in Data"
      ]
    },
    {
      "cell_type": "code",
      "metadata": {
        "colab": {
          "base_uri": "https://localhost:8080/"
        },
        "id": "GMxUUg5jixKf",
        "outputId": "229d95d9-2ca6-4473-c834-b83675cdaeb6"
      },
      "source": [
        "! git clone https://github.com/minthammock-development/Technical-Assignments\n",
        "df = pd.read_excel(\"./Technical-Assignments/RealSelf/question2_data.xlsx\")"
      ],
      "execution_count": 3,
      "outputs": [
        {
          "output_type": "stream",
          "text": [
            "Cloning into 'Technical-Assignments'...\n",
            "remote: Enumerating objects: 13, done.\u001b[K\n",
            "remote: Counting objects: 100% (13/13), done.\u001b[K\n",
            "remote: Compressing objects: 100% (11/11), done.\u001b[K\n",
            "remote: Total 13 (delta 0), reused 10 (delta 0), pack-reused 0\u001b[K\n",
            "Unpacking objects: 100% (13/13), done.\n"
          ],
          "name": "stdout"
        }
      ]
    },
    {
      "cell_type": "markdown",
      "metadata": {
        "id": "J_QJXvtxj70h"
      },
      "source": [
        "## General Summary Stats\n",
        "Here we show the first couple rows of the data as well as some summary statistics for the numerical columns to give an overview of what we're going to be dealing with. "
      ]
    },
    {
      "cell_type": "code",
      "metadata": {
        "colab": {
          "base_uri": "https://localhost:8080/",
          "height": 484
        },
        "id": "pVmUdhYijA3v",
        "outputId": "4aaf3160-aee6-45f9-bc04-7de363b1bd98"
      },
      "source": [
        "display(df.head(5))\n",
        "display(df.describe())"
      ],
      "execution_count": 4,
      "outputs": [
        {
          "output_type": "display_data",
          "data": {
            "text/html": [
              "<div>\n",
              "<style scoped>\n",
              "    .dataframe tbody tr th:only-of-type {\n",
              "        vertical-align: middle;\n",
              "    }\n",
              "\n",
              "    .dataframe tbody tr th {\n",
              "        vertical-align: top;\n",
              "    }\n",
              "\n",
              "    .dataframe thead th {\n",
              "        text-align: right;\n",
              "    }\n",
              "</style>\n",
              "<table border=\"1\" class=\"dataframe\">\n",
              "  <thead>\n",
              "    <tr style=\"text-align: right;\">\n",
              "      <th></th>\n",
              "      <th>Created Date</th>\n",
              "      <th>Treatment Rating</th>\n",
              "      <th>Number of Photos</th>\n",
              "      <th>Number of Words</th>\n",
              "      <th>Provider Rating</th>\n",
              "      <th>Physician Type</th>\n",
              "      <th>Treatment Name</th>\n",
              "      <th>Title</th>\n",
              "      <th>Cost</th>\n",
              "    </tr>\n",
              "  </thead>\n",
              "  <tbody>\n",
              "    <tr>\n",
              "      <th>0</th>\n",
              "      <td>2019-05-31</td>\n",
              "      <td>Worth it</td>\n",
              "      <td>0</td>\n",
              "      <td>109</td>\n",
              "      <td>5.0</td>\n",
              "      <td>Physician</td>\n",
              "      <td>volbella</td>\n",
              "      <td>From Nervous to Loyal Customer in One Visit!</td>\n",
              "      <td>0.0</td>\n",
              "    </tr>\n",
              "    <tr>\n",
              "      <th>1</th>\n",
              "      <td>2019-02-13</td>\n",
              "      <td>Worth it</td>\n",
              "      <td>0</td>\n",
              "      <td>96</td>\n",
              "      <td>5.0</td>\n",
              "      <td>Dermatologic Surgeon</td>\n",
              "      <td>volbella</td>\n",
              "      <td>Dr. Schlessinger did a fantastic job giving me...</td>\n",
              "      <td>0.0</td>\n",
              "    </tr>\n",
              "    <tr>\n",
              "      <th>2</th>\n",
              "      <td>2019-01-13</td>\n",
              "      <td>Worth it</td>\n",
              "      <td>2</td>\n",
              "      <td>93</td>\n",
              "      <td>5.0</td>\n",
              "      <td>Plastic Surgeon</td>\n",
              "      <td>volbella</td>\n",
              "      <td>Amazing Artistry!</td>\n",
              "      <td>0.0</td>\n",
              "    </tr>\n",
              "    <tr>\n",
              "      <th>3</th>\n",
              "      <td>2019-06-30</td>\n",
              "      <td>Worth it</td>\n",
              "      <td>0</td>\n",
              "      <td>80</td>\n",
              "      <td>5.0</td>\n",
              "      <td>Family Physician</td>\n",
              "      <td>volbella</td>\n",
              "      <td>Expert Injector!</td>\n",
              "      <td>0.0</td>\n",
              "    </tr>\n",
              "    <tr>\n",
              "      <th>4</th>\n",
              "      <td>2019-04-08</td>\n",
              "      <td>Not worth it</td>\n",
              "      <td>0</td>\n",
              "      <td>498</td>\n",
              "      <td>1.0</td>\n",
              "      <td>Physician</td>\n",
              "      <td>botox</td>\n",
              "      <td>Consultation Review: I just had a terrible exp...</td>\n",
              "      <td>3000.0</td>\n",
              "    </tr>\n",
              "  </tbody>\n",
              "</table>\n",
              "</div>"
            ],
            "text/plain": [
              "  Created Date  ...    Cost\n",
              "0   2019-05-31  ...     0.0\n",
              "1   2019-02-13  ...     0.0\n",
              "2   2019-01-13  ...     0.0\n",
              "3   2019-06-30  ...     0.0\n",
              "4   2019-04-08  ...  3000.0\n",
              "\n",
              "[5 rows x 9 columns]"
            ]
          },
          "metadata": {
            "tags": []
          }
        },
        {
          "output_type": "display_data",
          "data": {
            "text/html": [
              "<div>\n",
              "<style scoped>\n",
              "    .dataframe tbody tr th:only-of-type {\n",
              "        vertical-align: middle;\n",
              "    }\n",
              "\n",
              "    .dataframe tbody tr th {\n",
              "        vertical-align: top;\n",
              "    }\n",
              "\n",
              "    .dataframe thead th {\n",
              "        text-align: right;\n",
              "    }\n",
              "</style>\n",
              "<table border=\"1\" class=\"dataframe\">\n",
              "  <thead>\n",
              "    <tr style=\"text-align: right;\">\n",
              "      <th></th>\n",
              "      <th>Number of Photos</th>\n",
              "      <th>Number of Words</th>\n",
              "      <th>Provider Rating</th>\n",
              "      <th>Cost</th>\n",
              "    </tr>\n",
              "  </thead>\n",
              "  <tbody>\n",
              "    <tr>\n",
              "      <th>count</th>\n",
              "      <td>662.000000</td>\n",
              "      <td>662.000000</td>\n",
              "      <td>644.000000</td>\n",
              "      <td>662.000000</td>\n",
              "    </tr>\n",
              "    <tr>\n",
              "      <th>mean</th>\n",
              "      <td>0.267372</td>\n",
              "      <td>87.483384</td>\n",
              "      <td>4.854037</td>\n",
              "      <td>206.856737</td>\n",
              "    </tr>\n",
              "    <tr>\n",
              "      <th>std</th>\n",
              "      <td>1.287479</td>\n",
              "      <td>75.813763</td>\n",
              "      <td>0.710157</td>\n",
              "      <td>395.072841</td>\n",
              "    </tr>\n",
              "    <tr>\n",
              "      <th>min</th>\n",
              "      <td>0.000000</td>\n",
              "      <td>28.000000</td>\n",
              "      <td>1.000000</td>\n",
              "      <td>0.000000</td>\n",
              "    </tr>\n",
              "    <tr>\n",
              "      <th>25%</th>\n",
              "      <td>0.000000</td>\n",
              "      <td>45.000000</td>\n",
              "      <td>5.000000</td>\n",
              "      <td>0.000000</td>\n",
              "    </tr>\n",
              "    <tr>\n",
              "      <th>50%</th>\n",
              "      <td>0.000000</td>\n",
              "      <td>61.000000</td>\n",
              "      <td>5.000000</td>\n",
              "      <td>0.000000</td>\n",
              "    </tr>\n",
              "    <tr>\n",
              "      <th>75%</th>\n",
              "      <td>0.000000</td>\n",
              "      <td>101.750000</td>\n",
              "      <td>5.000000</td>\n",
              "      <td>320.000000</td>\n",
              "    </tr>\n",
              "    <tr>\n",
              "      <th>max</th>\n",
              "      <td>18.000000</td>\n",
              "      <td>704.000000</td>\n",
              "      <td>5.000000</td>\n",
              "      <td>5000.000000</td>\n",
              "    </tr>\n",
              "  </tbody>\n",
              "</table>\n",
              "</div>"
            ],
            "text/plain": [
              "       Number of Photos  Number of Words  Provider Rating         Cost\n",
              "count        662.000000       662.000000       644.000000   662.000000\n",
              "mean           0.267372        87.483384         4.854037   206.856737\n",
              "std            1.287479        75.813763         0.710157   395.072841\n",
              "min            0.000000        28.000000         1.000000     0.000000\n",
              "25%            0.000000        45.000000         5.000000     0.000000\n",
              "50%            0.000000        61.000000         5.000000     0.000000\n",
              "75%            0.000000       101.750000         5.000000   320.000000\n",
              "max           18.000000       704.000000         5.000000  5000.000000"
            ]
          },
          "metadata": {
            "tags": []
          }
        }
      ]
    },
    {
      "cell_type": "markdown",
      "metadata": {
        "id": "hRNjpvC_j_Cw"
      },
      "source": [
        "## Null Value Analysis\n",
        "\n",
        "We will check for null values first. Physician type is missing 17% of the entries which means limiting the data to a subset or abandoning the column should be considered if more analysis is to be done later.  "
      ]
    },
    {
      "cell_type": "code",
      "metadata": {
        "colab": {
          "base_uri": "https://localhost:8080/"
        },
        "id": "1FtfnsonjGvO",
        "outputId": "3835d90a-44a1-46cc-ef32-ddb6b3ae97cf"
      },
      "source": [
        "nulls = {x:(df[x].isna().sum()/len(df)*100)for x in df.columns}\n",
        "(df.isna().sum() / len(df))*100"
      ],
      "execution_count": 5,
      "outputs": [
        {
          "output_type": "execute_result",
          "data": {
            "text/plain": [
              "Created Date         0.000000\n",
              "Treatment Rating     0.000000\n",
              "Number of Photos     0.000000\n",
              "Number of Words      0.000000\n",
              "Provider Rating      2.719033\n",
              "Physician Type      17.371601\n",
              "Treatment Name       0.000000\n",
              "Title                0.000000\n",
              "Cost                 0.000000\n",
              "dtype: float64"
            ]
          },
          "metadata": {
            "tags": []
          },
          "execution_count": 5
        }
      ]
    },
    {
      "cell_type": "markdown",
      "metadata": {
        "id": "F_A2ZnuMscgP"
      },
      "source": [
        "The cost column has 60% of it's data imputed with 0 as a placeholder. This makes cost analysis somewhat precarious given the limited sample size, however, as cost analysis is a primary goal of this work it cannot be dropped from consideration. At this time, I do not recommend a form of statistical imputation (k-means, fuzz-c, mean, median, mode) as they won't have a substantial impact on the summary statistics of the colum anyways."
      ]
    },
    {
      "cell_type": "code",
      "metadata": {
        "colab": {
          "base_uri": "https://localhost:8080/"
        },
        "id": "3lCYF7oCjyKi",
        "outputId": "f17151ee-48d9-4fd8-cfb9-2d6af932e500"
      },
      "source": [
        "nulls['Cost'] = len(df['Cost'].loc[df['Cost'] == 0])/len(df)*100\n",
        "nulls"
      ],
      "execution_count": 6,
      "outputs": [
        {
          "output_type": "execute_result",
          "data": {
            "text/plain": [
              "{'Cost': 59.516616314199396,\n",
              " 'Created Date': 0.0,\n",
              " 'Number of Photos': 0.0,\n",
              " 'Number of Words': 0.0,\n",
              " 'Physician Type': 17.371601208459214,\n",
              " 'Provider Rating': 2.719033232628399,\n",
              " 'Title': 0.0,\n",
              " 'Treatment Name': 0.0,\n",
              " 'Treatment Rating': 0.0}"
            ]
          },
          "metadata": {
            "tags": []
          },
          "execution_count": 6
        }
      ]
    },
    {
      "cell_type": "markdown",
      "metadata": {
        "id": "7VXuCmOitPc2"
      },
      "source": [
        "### Null Value Summary\n",
        "\n",
        "For the satisfaction portion, I would leave the data as is and analyze everything. For the cost portion, I'm going to abadon all rows that are missing cost data, do some additional analysis and will consider additional data imputation at that point. "
      ]
    },
    {
      "cell_type": "markdown",
      "metadata": {
        "id": "ZzbG9yICtsdu"
      },
      "source": [
        "## Outlier Detection\n",
        "\n",
        "Given what I know about each of the proceedures, costs are highly correlated with the amount of product/surface area of the treatment. Because our sample sizes are small for the non-botoz proceedures, I'm going to use the interquartile range method of filtering outliers as the mean and standard deviation are highly unreliable under these conditions. \n",
        "\n",
        "Costs will be broken down within the procedural category."
      ]
    },
    {
      "cell_type": "code",
      "metadata": {
        "id": "cnPO6gVfu33d"
      },
      "source": [
        "# break things into the proceedural categories\n",
        "dfCost = df.loc[df['Cost'] != 0]\n",
        "dfCostB = {'df':dfCost.loc[dfCost['Treatment Name'] == 'botox'], 'name':'Botox'}\n",
        "dfCostCP = {'df':dfCost.loc[dfCost['Treatment Name'] == 'chemical peel'],'name':'Chemical Peel'}\n",
        "dfCostCM = {'df':dfCost.loc[dfCost['Treatment Name'] == 'coolmini'],'name':'Coolmini'}\n",
        "dfCostV = {'df':dfCost.loc[dfCost['Treatment Name'] == 'volbella'],'name':'Volbella'}\n",
        "proceedures = [dfCostB, dfCostCP, dfCostCM, dfCostV]"
      ],
      "execution_count": 7,
      "outputs": []
    },
    {
      "cell_type": "code",
      "metadata": {
        "colab": {
          "base_uri": "https://localhost:8080/",
          "height": 1000
        },
        "id": "B6ZJF2nRvB9v",
        "outputId": "fa59c91c-6e4c-4aff-ebeb-17d717aabe21"
      },
      "source": [
        "# get summary stats\n",
        "for x in proceedures:\n",
        "  display(x['name'])\n",
        "  display(x['df'].describe())\n",
        "  print()\n",
        "  print()\n"
      ],
      "execution_count": 8,
      "outputs": [
        {
          "output_type": "display_data",
          "data": {
            "application/vnd.google.colaboratory.intrinsic+json": {
              "type": "string"
            },
            "text/plain": [
              "'Botox'"
            ]
          },
          "metadata": {
            "tags": []
          }
        },
        {
          "output_type": "display_data",
          "data": {
            "text/html": [
              "<div>\n",
              "<style scoped>\n",
              "    .dataframe tbody tr th:only-of-type {\n",
              "        vertical-align: middle;\n",
              "    }\n",
              "\n",
              "    .dataframe tbody tr th {\n",
              "        vertical-align: top;\n",
              "    }\n",
              "\n",
              "    .dataframe thead th {\n",
              "        text-align: right;\n",
              "    }\n",
              "</style>\n",
              "<table border=\"1\" class=\"dataframe\">\n",
              "  <thead>\n",
              "    <tr style=\"text-align: right;\">\n",
              "      <th></th>\n",
              "      <th>Number of Photos</th>\n",
              "      <th>Number of Words</th>\n",
              "      <th>Provider Rating</th>\n",
              "      <th>Cost</th>\n",
              "    </tr>\n",
              "  </thead>\n",
              "  <tbody>\n",
              "    <tr>\n",
              "      <th>count</th>\n",
              "      <td>240.000000</td>\n",
              "      <td>240.000000</td>\n",
              "      <td>231.000000</td>\n",
              "      <td>240.000000</td>\n",
              "    </tr>\n",
              "    <tr>\n",
              "      <th>mean</th>\n",
              "      <td>0.225000</td>\n",
              "      <td>87.908333</td>\n",
              "      <td>4.818182</td>\n",
              "      <td>464.016292</td>\n",
              "    </tr>\n",
              "    <tr>\n",
              "      <th>std</th>\n",
              "      <td>1.054677</td>\n",
              "      <td>72.154297</td>\n",
              "      <td>0.775617</td>\n",
              "      <td>342.334018</td>\n",
              "    </tr>\n",
              "    <tr>\n",
              "      <th>min</th>\n",
              "      <td>0.000000</td>\n",
              "      <td>28.000000</td>\n",
              "      <td>1.000000</td>\n",
              "      <td>13.000000</td>\n",
              "    </tr>\n",
              "    <tr>\n",
              "      <th>25%</th>\n",
              "      <td>0.000000</td>\n",
              "      <td>45.000000</td>\n",
              "      <td>5.000000</td>\n",
              "      <td>258.750000</td>\n",
              "    </tr>\n",
              "    <tr>\n",
              "      <th>50%</th>\n",
              "      <td>0.000000</td>\n",
              "      <td>63.000000</td>\n",
              "      <td>5.000000</td>\n",
              "      <td>383.500000</td>\n",
              "    </tr>\n",
              "    <tr>\n",
              "      <th>75%</th>\n",
              "      <td>0.000000</td>\n",
              "      <td>102.000000</td>\n",
              "      <td>5.000000</td>\n",
              "      <td>577.717500</td>\n",
              "    </tr>\n",
              "    <tr>\n",
              "      <th>max</th>\n",
              "      <td>10.000000</td>\n",
              "      <td>584.000000</td>\n",
              "      <td>5.000000</td>\n",
              "      <td>3000.000000</td>\n",
              "    </tr>\n",
              "  </tbody>\n",
              "</table>\n",
              "</div>"
            ],
            "text/plain": [
              "       Number of Photos  Number of Words  Provider Rating         Cost\n",
              "count        240.000000       240.000000       231.000000   240.000000\n",
              "mean           0.225000        87.908333         4.818182   464.016292\n",
              "std            1.054677        72.154297         0.775617   342.334018\n",
              "min            0.000000        28.000000         1.000000    13.000000\n",
              "25%            0.000000        45.000000         5.000000   258.750000\n",
              "50%            0.000000        63.000000         5.000000   383.500000\n",
              "75%            0.000000       102.000000         5.000000   577.717500\n",
              "max           10.000000       584.000000         5.000000  3000.000000"
            ]
          },
          "metadata": {
            "tags": []
          }
        },
        {
          "output_type": "stream",
          "text": [
            "\n",
            "\n"
          ],
          "name": "stdout"
        },
        {
          "output_type": "display_data",
          "data": {
            "application/vnd.google.colaboratory.intrinsic+json": {
              "type": "string"
            },
            "text/plain": [
              "'Chemical Peel'"
            ]
          },
          "metadata": {
            "tags": []
          }
        },
        {
          "output_type": "display_data",
          "data": {
            "text/html": [
              "<div>\n",
              "<style scoped>\n",
              "    .dataframe tbody tr th:only-of-type {\n",
              "        vertical-align: middle;\n",
              "    }\n",
              "\n",
              "    .dataframe tbody tr th {\n",
              "        vertical-align: top;\n",
              "    }\n",
              "\n",
              "    .dataframe thead th {\n",
              "        text-align: right;\n",
              "    }\n",
              "</style>\n",
              "<table border=\"1\" class=\"dataframe\">\n",
              "  <thead>\n",
              "    <tr style=\"text-align: right;\">\n",
              "      <th></th>\n",
              "      <th>Number of Photos</th>\n",
              "      <th>Number of Words</th>\n",
              "      <th>Provider Rating</th>\n",
              "      <th>Cost</th>\n",
              "    </tr>\n",
              "  </thead>\n",
              "  <tbody>\n",
              "    <tr>\n",
              "      <th>count</th>\n",
              "      <td>10.000000</td>\n",
              "      <td>10.000000</td>\n",
              "      <td>8.000000</td>\n",
              "      <td>10.000000</td>\n",
              "    </tr>\n",
              "    <tr>\n",
              "      <th>mean</th>\n",
              "      <td>2.800000</td>\n",
              "      <td>106.700000</td>\n",
              "      <td>4.750000</td>\n",
              "      <td>879.013000</td>\n",
              "    </tr>\n",
              "    <tr>\n",
              "      <th>std</th>\n",
              "      <td>5.750362</td>\n",
              "      <td>99.897781</td>\n",
              "      <td>0.707107</td>\n",
              "      <td>1625.890274</td>\n",
              "    </tr>\n",
              "    <tr>\n",
              "      <th>min</th>\n",
              "      <td>0.000000</td>\n",
              "      <td>40.000000</td>\n",
              "      <td>3.000000</td>\n",
              "      <td>75.000000</td>\n",
              "    </tr>\n",
              "    <tr>\n",
              "      <th>25%</th>\n",
              "      <td>0.000000</td>\n",
              "      <td>46.250000</td>\n",
              "      <td>5.000000</td>\n",
              "      <td>108.052500</td>\n",
              "    </tr>\n",
              "    <tr>\n",
              "      <th>50%</th>\n",
              "      <td>0.000000</td>\n",
              "      <td>58.500000</td>\n",
              "      <td>5.000000</td>\n",
              "      <td>142.500000</td>\n",
              "    </tr>\n",
              "    <tr>\n",
              "      <th>75%</th>\n",
              "      <td>3.000000</td>\n",
              "      <td>105.500000</td>\n",
              "      <td>5.000000</td>\n",
              "      <td>325.000000</td>\n",
              "    </tr>\n",
              "    <tr>\n",
              "      <th>max</th>\n",
              "      <td>18.000000</td>\n",
              "      <td>292.000000</td>\n",
              "      <td>5.000000</td>\n",
              "      <td>5000.000000</td>\n",
              "    </tr>\n",
              "  </tbody>\n",
              "</table>\n",
              "</div>"
            ],
            "text/plain": [
              "       Number of Photos  Number of Words  Provider Rating         Cost\n",
              "count         10.000000        10.000000         8.000000    10.000000\n",
              "mean           2.800000       106.700000         4.750000   879.013000\n",
              "std            5.750362        99.897781         0.707107  1625.890274\n",
              "min            0.000000        40.000000         3.000000    75.000000\n",
              "25%            0.000000        46.250000         5.000000   108.052500\n",
              "50%            0.000000        58.500000         5.000000   142.500000\n",
              "75%            3.000000       105.500000         5.000000   325.000000\n",
              "max           18.000000       292.000000         5.000000  5000.000000"
            ]
          },
          "metadata": {
            "tags": []
          }
        },
        {
          "output_type": "stream",
          "text": [
            "\n",
            "\n"
          ],
          "name": "stdout"
        },
        {
          "output_type": "display_data",
          "data": {
            "application/vnd.google.colaboratory.intrinsic+json": {
              "type": "string"
            },
            "text/plain": [
              "'Coolmini'"
            ]
          },
          "metadata": {
            "tags": []
          }
        },
        {
          "output_type": "display_data",
          "data": {
            "text/html": [
              "<div>\n",
              "<style scoped>\n",
              "    .dataframe tbody tr th:only-of-type {\n",
              "        vertical-align: middle;\n",
              "    }\n",
              "\n",
              "    .dataframe tbody tr th {\n",
              "        vertical-align: top;\n",
              "    }\n",
              "\n",
              "    .dataframe thead th {\n",
              "        text-align: right;\n",
              "    }\n",
              "</style>\n",
              "<table border=\"1\" class=\"dataframe\">\n",
              "  <thead>\n",
              "    <tr style=\"text-align: right;\">\n",
              "      <th></th>\n",
              "      <th>Number of Photos</th>\n",
              "      <th>Number of Words</th>\n",
              "      <th>Provider Rating</th>\n",
              "      <th>Cost</th>\n",
              "    </tr>\n",
              "  </thead>\n",
              "  <tbody>\n",
              "    <tr>\n",
              "      <th>count</th>\n",
              "      <td>8.00000</td>\n",
              "      <td>8.000000</td>\n",
              "      <td>6.0</td>\n",
              "      <td>8.000000</td>\n",
              "    </tr>\n",
              "    <tr>\n",
              "      <th>mean</th>\n",
              "      <td>1.50000</td>\n",
              "      <td>219.875000</td>\n",
              "      <td>5.0</td>\n",
              "      <td>1193.750000</td>\n",
              "    </tr>\n",
              "    <tr>\n",
              "      <th>std</th>\n",
              "      <td>2.13809</td>\n",
              "      <td>238.194061</td>\n",
              "      <td>0.0</td>\n",
              "      <td>374.583102</td>\n",
              "    </tr>\n",
              "    <tr>\n",
              "      <th>min</th>\n",
              "      <td>0.00000</td>\n",
              "      <td>50.000000</td>\n",
              "      <td>5.0</td>\n",
              "      <td>750.000000</td>\n",
              "    </tr>\n",
              "    <tr>\n",
              "      <th>25%</th>\n",
              "      <td>0.00000</td>\n",
              "      <td>54.750000</td>\n",
              "      <td>5.0</td>\n",
              "      <td>950.000000</td>\n",
              "    </tr>\n",
              "    <tr>\n",
              "      <th>50%</th>\n",
              "      <td>0.00000</td>\n",
              "      <td>85.500000</td>\n",
              "      <td>5.0</td>\n",
              "      <td>1100.000000</td>\n",
              "    </tr>\n",
              "    <tr>\n",
              "      <th>75%</th>\n",
              "      <td>3.25000</td>\n",
              "      <td>353.250000</td>\n",
              "      <td>5.0</td>\n",
              "      <td>1500.000000</td>\n",
              "    </tr>\n",
              "    <tr>\n",
              "      <th>max</th>\n",
              "      <td>5.00000</td>\n",
              "      <td>704.000000</td>\n",
              "      <td>5.0</td>\n",
              "      <td>1800.000000</td>\n",
              "    </tr>\n",
              "  </tbody>\n",
              "</table>\n",
              "</div>"
            ],
            "text/plain": [
              "       Number of Photos  Number of Words  Provider Rating         Cost\n",
              "count           8.00000         8.000000              6.0     8.000000\n",
              "mean            1.50000       219.875000              5.0  1193.750000\n",
              "std             2.13809       238.194061              0.0   374.583102\n",
              "min             0.00000        50.000000              5.0   750.000000\n",
              "25%             0.00000        54.750000              5.0   950.000000\n",
              "50%             0.00000        85.500000              5.0  1100.000000\n",
              "75%             3.25000       353.250000              5.0  1500.000000\n",
              "max             5.00000       704.000000              5.0  1800.000000"
            ]
          },
          "metadata": {
            "tags": []
          }
        },
        {
          "output_type": "stream",
          "text": [
            "\n",
            "\n"
          ],
          "name": "stdout"
        },
        {
          "output_type": "display_data",
          "data": {
            "application/vnd.google.colaboratory.intrinsic+json": {
              "type": "string"
            },
            "text/plain": [
              "'Volbella'"
            ]
          },
          "metadata": {
            "tags": []
          }
        },
        {
          "output_type": "display_data",
          "data": {
            "text/html": [
              "<div>\n",
              "<style scoped>\n",
              "    .dataframe tbody tr th:only-of-type {\n",
              "        vertical-align: middle;\n",
              "    }\n",
              "\n",
              "    .dataframe tbody tr th {\n",
              "        vertical-align: top;\n",
              "    }\n",
              "\n",
              "    .dataframe thead th {\n",
              "        text-align: right;\n",
              "    }\n",
              "</style>\n",
              "<table border=\"1\" class=\"dataframe\">\n",
              "  <thead>\n",
              "    <tr style=\"text-align: right;\">\n",
              "      <th></th>\n",
              "      <th>Number of Photos</th>\n",
              "      <th>Number of Words</th>\n",
              "      <th>Provider Rating</th>\n",
              "      <th>Cost</th>\n",
              "    </tr>\n",
              "  </thead>\n",
              "  <tbody>\n",
              "    <tr>\n",
              "      <th>count</th>\n",
              "      <td>10.000000</td>\n",
              "      <td>10.000000</td>\n",
              "      <td>9.000000</td>\n",
              "      <td>10.000000</td>\n",
              "    </tr>\n",
              "    <tr>\n",
              "      <th>mean</th>\n",
              "      <td>2.000000</td>\n",
              "      <td>102.600000</td>\n",
              "      <td>4.111111</td>\n",
              "      <td>723.512000</td>\n",
              "    </tr>\n",
              "    <tr>\n",
              "      <th>std</th>\n",
              "      <td>3.091206</td>\n",
              "      <td>38.505988</td>\n",
              "      <td>1.763834</td>\n",
              "      <td>545.501897</td>\n",
              "    </tr>\n",
              "    <tr>\n",
              "      <th>min</th>\n",
              "      <td>0.000000</td>\n",
              "      <td>52.000000</td>\n",
              "      <td>1.000000</td>\n",
              "      <td>400.000000</td>\n",
              "    </tr>\n",
              "    <tr>\n",
              "      <th>25%</th>\n",
              "      <td>0.000000</td>\n",
              "      <td>81.000000</td>\n",
              "      <td>5.000000</td>\n",
              "      <td>449.985000</td>\n",
              "    </tr>\n",
              "    <tr>\n",
              "      <th>50%</th>\n",
              "      <td>1.000000</td>\n",
              "      <td>91.500000</td>\n",
              "      <td>5.000000</td>\n",
              "      <td>492.570000</td>\n",
              "    </tr>\n",
              "    <tr>\n",
              "      <th>75%</th>\n",
              "      <td>2.750000</td>\n",
              "      <td>114.500000</td>\n",
              "      <td>5.000000</td>\n",
              "      <td>737.500000</td>\n",
              "    </tr>\n",
              "    <tr>\n",
              "      <th>max</th>\n",
              "      <td>10.000000</td>\n",
              "      <td>172.000000</td>\n",
              "      <td>5.000000</td>\n",
              "      <td>2200.000000</td>\n",
              "    </tr>\n",
              "  </tbody>\n",
              "</table>\n",
              "</div>"
            ],
            "text/plain": [
              "       Number of Photos  Number of Words  Provider Rating         Cost\n",
              "count         10.000000        10.000000         9.000000    10.000000\n",
              "mean           2.000000       102.600000         4.111111   723.512000\n",
              "std            3.091206        38.505988         1.763834   545.501897\n",
              "min            0.000000        52.000000         1.000000   400.000000\n",
              "25%            0.000000        81.000000         5.000000   449.985000\n",
              "50%            1.000000        91.500000         5.000000   492.570000\n",
              "75%            2.750000       114.500000         5.000000   737.500000\n",
              "max           10.000000       172.000000         5.000000  2200.000000"
            ]
          },
          "metadata": {
            "tags": []
          }
        },
        {
          "output_type": "stream",
          "text": [
            "\n",
            "\n"
          ],
          "name": "stdout"
        }
      ]
    },
    {
      "cell_type": "markdown",
      "metadata": {
        "id": "O18xrwEGybfG"
      },
      "source": [
        "This gives a much better sense of the average cost of each proceedure. With more time, it would be worth examining changing the standard, 25th% - 75th% implementation of the interquartile range, but it will suffice here. \n"
      ]
    },
    {
      "cell_type": "markdown",
      "metadata": {
        "id": "qJ4XlHxr4Btp"
      },
      "source": [
        "## Ratings\n",
        "\n",
        "As there are no null values in the Treatment Rating column, I see no need to drop any rows for this portion of the analysis.\n",
        "\n",
        "Looking at the imbalance in the number of samples accross the various treatments, a normalized metric will be needed to determine ranking. Ideally, I would only analyze a subsample of the data, stratifying each proceedure accross the available providers in case the provider column adds a stong bias. Because the provider information isn't available in this dataset, I will skip this. \n",
        "\n",
        "My approach is going to add the number of \"Worth it\" treatment ratings per proceedure and divede said number by the total number of proceedures."
      ]
    },
    {
      "cell_type": "code",
      "metadata": {
        "id": "Z7OYyb2NA6Nz"
      },
      "source": [
        "# break things into the proceedural categories\n",
        "dfB = {'df':df.loc[df['Treatment Name'] == 'botox'], 'name':'Botox'}\n",
        "dfCP ={'df':df.loc[df['Treatment Name'] == 'chemical peel'],'name':'Chemical Peel'}\n",
        "dfCM ={'df':df.loc[df['Treatment Name'] == 'coolmini'],'name':'Coolmini'}\n",
        "dfV = {'df':df.loc[df['Treatment Name'] == 'volbella'],'name':'Volbella'}\n",
        "proceedures = [dfB, dfCP, dfCM, dfV]"
      ],
      "execution_count": 9,
      "outputs": []
    },
    {
      "cell_type": "code",
      "metadata": {
        "colab": {
          "base_uri": "https://localhost:8080/",
          "height": 471
        },
        "id": "TOO5s_FH50KO",
        "outputId": "9d4696f4-aa6a-4a0a-dec5-fb43733b86f2"
      },
      "source": [
        "for x in proceedures:\n",
        "  x['df']['worth_it'] = [1 if y == 'Worth it'  else 0 for y in x['df']['Treatment Rating']]\n",
        "  worthit = len(x['df'].loc[x['df']['Treatment Rating'] == 'Worth it'])\n",
        "  display(x['name'])\n",
        "  display(f\"Score: {round(worthit/len(x['df']),2)}\")\n",
        "  display(f\"error = {round(x['df']['worth_it'].std(),2)}\")\n",
        "  print()\n",
        "  print()"
      ],
      "execution_count": 14,
      "outputs": [
        {
          "output_type": "stream",
          "text": [
            "/usr/local/lib/python3.7/dist-packages/ipykernel_launcher.py:2: SettingWithCopyWarning: \n",
            "A value is trying to be set on a copy of a slice from a DataFrame.\n",
            "Try using .loc[row_indexer,col_indexer] = value instead\n",
            "\n",
            "See the caveats in the documentation: https://pandas.pydata.org/pandas-docs/stable/user_guide/indexing.html#returning-a-view-versus-a-copy\n",
            "  \n"
          ],
          "name": "stderr"
        },
        {
          "output_type": "display_data",
          "data": {
            "application/vnd.google.colaboratory.intrinsic+json": {
              "type": "string"
            },
            "text/plain": [
              "'Botox'"
            ]
          },
          "metadata": {
            "tags": []
          }
        },
        {
          "output_type": "display_data",
          "data": {
            "application/vnd.google.colaboratory.intrinsic+json": {
              "type": "string"
            },
            "text/plain": [
              "'Score: 0.96'"
            ]
          },
          "metadata": {
            "tags": []
          }
        },
        {
          "output_type": "display_data",
          "data": {
            "application/vnd.google.colaboratory.intrinsic+json": {
              "type": "string"
            },
            "text/plain": [
              "'error = 0.19'"
            ]
          },
          "metadata": {
            "tags": []
          }
        },
        {
          "output_type": "stream",
          "text": [
            "\n",
            "\n"
          ],
          "name": "stdout"
        },
        {
          "output_type": "display_data",
          "data": {
            "application/vnd.google.colaboratory.intrinsic+json": {
              "type": "string"
            },
            "text/plain": [
              "'Chemical Peel'"
            ]
          },
          "metadata": {
            "tags": []
          }
        },
        {
          "output_type": "display_data",
          "data": {
            "application/vnd.google.colaboratory.intrinsic+json": {
              "type": "string"
            },
            "text/plain": [
              "'Score: 0.89'"
            ]
          },
          "metadata": {
            "tags": []
          }
        },
        {
          "output_type": "display_data",
          "data": {
            "application/vnd.google.colaboratory.intrinsic+json": {
              "type": "string"
            },
            "text/plain": [
              "'error = 0.31'"
            ]
          },
          "metadata": {
            "tags": []
          }
        },
        {
          "output_type": "stream",
          "text": [
            "\n",
            "\n"
          ],
          "name": "stdout"
        },
        {
          "output_type": "display_data",
          "data": {
            "application/vnd.google.colaboratory.intrinsic+json": {
              "type": "string"
            },
            "text/plain": [
              "'Coolmini'"
            ]
          },
          "metadata": {
            "tags": []
          }
        },
        {
          "output_type": "display_data",
          "data": {
            "application/vnd.google.colaboratory.intrinsic+json": {
              "type": "string"
            },
            "text/plain": [
              "'Score: 0.88'"
            ]
          },
          "metadata": {
            "tags": []
          }
        },
        {
          "output_type": "display_data",
          "data": {
            "application/vnd.google.colaboratory.intrinsic+json": {
              "type": "string"
            },
            "text/plain": [
              "'error = 0.34'"
            ]
          },
          "metadata": {
            "tags": []
          }
        },
        {
          "output_type": "stream",
          "text": [
            "\n",
            "\n"
          ],
          "name": "stdout"
        },
        {
          "output_type": "display_data",
          "data": {
            "application/vnd.google.colaboratory.intrinsic+json": {
              "type": "string"
            },
            "text/plain": [
              "'Volbella'"
            ]
          },
          "metadata": {
            "tags": []
          }
        },
        {
          "output_type": "display_data",
          "data": {
            "application/vnd.google.colaboratory.intrinsic+json": {
              "type": "string"
            },
            "text/plain": [
              "'Score: 0.87'"
            ]
          },
          "metadata": {
            "tags": []
          }
        },
        {
          "output_type": "display_data",
          "data": {
            "application/vnd.google.colaboratory.intrinsic+json": {
              "type": "string"
            },
            "text/plain": [
              "'error = 0.34'"
            ]
          },
          "metadata": {
            "tags": []
          }
        },
        {
          "output_type": "stream",
          "text": [
            "\n",
            "\n"
          ],
          "name": "stdout"
        }
      ]
    },
    {
      "cell_type": "markdown",
      "metadata": {
        "id": "L0H4D07u373X"
      },
      "source": [
        "\n",
        "I would like to note that data imputation would be worth another look using one fo the more advanced methods such as k-means or fuzzy-c. Such methods would help detect trends between the other columns and the cost column and make the most informed decision when imputing data. At this point, however, because this imputation involves training a machine learning model on the data, I'm going to omit it for the sake of staying under the 2 hour window. \n",
        "\n",
        "## Answer to Question 1:\n",
        "\n",
        "Based on the data and a brief analysis, I would suggest providing the cost information in the form of a range with the 25th percentile as the bottom and the 75th percentile as the top of the range. This is what that would look like for each proceedure.\n",
        "\n",
        "* Volbella: 450 - 740\n",
        "* Coolmini: 950 - 1500\n",
        "* Chemical Peel: 100 - 325\n",
        "* Botox: 260 - 380\n",
        "\n",
        "This approach will give a good understanding as to what most customers will recieve as a bill. I would also like to point out that there are more cleaver marketing strategies that could be used without being misleading such as using the lowest non-discounted price and saying, \"Starting From [INSERT PRICE].\" However, I stand by my analysis as providing the most realistic price expectation to customers. \n",
        "\n",
        "## Answer to Question 2\n",
        "\n",
        "Normalizing our analysis to percentages, we have the following breakdown:\n",
        "\n",
        "1. Botox: 96% approval / Error = 19%\n",
        "2. Chemical Peel: 89% approval / Error = 31%\n",
        "3. Coolmini: 88% approval / Error = 34%\n",
        "4. Volbella: 87% approval / Error = 34%\n",
        "\n",
        "Overall, I'm not confident in my ranking for two reasons.\n",
        "\n",
        "1. Few numbers of samples for the non-botox proceedures makes them highly succeptible to random varience. Using the standard deviation as an error, there is overlap in all rankings, meaning no statistical conclusions can be reasonable drawn without more info.\n",
        "2. The Provider name isn't given. There is a high degree of correlation between treatment rating and provider rating, meaning the treatment rating likely has more to do with the provider the patient saw than the proceedure itself. Thus, without being able to stratify the data to the provider, these conclusions are highly succeptible to sample bias. \n",
        "\n",
        "As noted, provider rating is highly correlated with treatment ranking."
      ]
    },
    {
      "cell_type": "markdown",
      "metadata": {
        "id": "BVkj4Lf4CWPA"
      },
      "source": [
        "# RealSelf Question 3:\n"
      ]
    },
    {
      "cell_type": "markdown",
      "metadata": {
        "id": "CyYDlpOaCfD4"
      },
      "source": [
        "## Part A"
      ]
    },
    {
      "cell_type": "code",
      "metadata": {
        "colab": {
          "base_uri": "https://localhost:8080/",
          "height": 227
        },
        "id": "HVhOgUP00E6F",
        "outputId": "e3c862ca-9ab3-482d-e22f-4eb9fa7b87b3"
      },
      "source": [
        "thing = [437,96,79,65,50,25,5]\n",
        "for n in range(len(thing)-1):\n",
        "  display(f'Step {n+1} drop-off: {round((thing[n] - thing[n+1])/thing[n],2)} percent')\n",
        "  print()"
      ],
      "execution_count": 11,
      "outputs": [
        {
          "output_type": "display_data",
          "data": {
            "application/vnd.google.colaboratory.intrinsic+json": {
              "type": "string"
            },
            "text/plain": [
              "'Step 1 drop-off: 0.78 percent'"
            ]
          },
          "metadata": {
            "tags": []
          }
        },
        {
          "output_type": "stream",
          "text": [
            "\n"
          ],
          "name": "stdout"
        },
        {
          "output_type": "display_data",
          "data": {
            "application/vnd.google.colaboratory.intrinsic+json": {
              "type": "string"
            },
            "text/plain": [
              "'Step 2 drop-off: 0.18 percent'"
            ]
          },
          "metadata": {
            "tags": []
          }
        },
        {
          "output_type": "stream",
          "text": [
            "\n"
          ],
          "name": "stdout"
        },
        {
          "output_type": "display_data",
          "data": {
            "application/vnd.google.colaboratory.intrinsic+json": {
              "type": "string"
            },
            "text/plain": [
              "'Step 3 drop-off: 0.18 percent'"
            ]
          },
          "metadata": {
            "tags": []
          }
        },
        {
          "output_type": "stream",
          "text": [
            "\n"
          ],
          "name": "stdout"
        },
        {
          "output_type": "display_data",
          "data": {
            "application/vnd.google.colaboratory.intrinsic+json": {
              "type": "string"
            },
            "text/plain": [
              "'Step 4 drop-off: 0.23 percent'"
            ]
          },
          "metadata": {
            "tags": []
          }
        },
        {
          "output_type": "stream",
          "text": [
            "\n"
          ],
          "name": "stdout"
        },
        {
          "output_type": "display_data",
          "data": {
            "application/vnd.google.colaboratory.intrinsic+json": {
              "type": "string"
            },
            "text/plain": [
              "'Step 5 drop-off: 0.5 percent'"
            ]
          },
          "metadata": {
            "tags": []
          }
        },
        {
          "output_type": "stream",
          "text": [
            "\n"
          ],
          "name": "stdout"
        },
        {
          "output_type": "display_data",
          "data": {
            "application/vnd.google.colaboratory.intrinsic+json": {
              "type": "string"
            },
            "text/plain": [
              "'Step 6 drop-off: 0.8 percent'"
            ]
          },
          "metadata": {
            "tags": []
          }
        },
        {
          "output_type": "stream",
          "text": [
            "\n"
          ],
          "name": "stdout"
        }
      ]
    },
    {
      "cell_type": "markdown",
      "metadata": {
        "id": "n2WgYlz1DVHy"
      },
      "source": [
        "* Step 5 has the largest percentage drop-off and Step 1 has the largest magnitidue drop off"
      ]
    },
    {
      "cell_type": "markdown",
      "metadata": {
        "id": "xQ-pr0P3DgJU"
      },
      "source": [
        "## Part B"
      ]
    },
    {
      "cell_type": "markdown",
      "metadata": {
        "id": "-OByL1JXEcct"
      },
      "source": [
        "I begin by determining the revenue expecation per customer that clicks on an add. There are only 5 per 437 who are ultimately referred which implies only 1.14% of those who click are ultimately referred. With 1000 dollars per referral,\n",
        "\n",
        "* the expected amount per customer is 1000*.00114 = $11.44\n",
        "\n",
        "With a proportional examination this implies \n",
        "\n",
        "* the advertizing cost per live transfer is $349.65\n",
        "\n"
      ]
    },
    {
      "cell_type": "markdown",
      "metadata": {
        "id": "GM-agwZTFrQE"
      },
      "source": [
        "## Part C\n",
        "\n",
        "Using the same logic from part B\n",
        "\n",
        "* the total cost per live transfer is $786.71\n",
        "\n",
        "## Part D\n",
        "\n",
        "if 50 of the users submit forms and only 5 are ultimately refered, this mean \n",
        "* the conversion rate from form submission to live transfer is 10%\n",
        "\n",
        "## Part E"
      ]
    },
    {
      "cell_type": "markdown",
      "metadata": {
        "id": "ZjiOmluRG7yx"
      },
      "source": [
        "Removing step 4 from the process map, I would assume the best case senario is that you keep all customers from step 3 and they are now ported into step 5. Under this assumption, we add back those who drop off at step 4 which is 14.\n",
        "\n",
        "* We should expect 64 users to submit the form\n",
        "\n",
        "### Part F\n",
        "\n",
        "The break even point for conversion rate for the entire process is 0.9% from beginning to end. This would mean 3.9 users are referred per 437 users. \n",
        "* So the mimnimum conversion rate for submission to transfer is 7.8%"
      ]
    },
    {
      "cell_type": "markdown",
      "metadata": {
        "id": "ftRbFcHoLT6W"
      },
      "source": [
        "# RealSelf Question 4:"
      ]
    },
    {
      "cell_type": "markdown",
      "metadata": {
        "id": "2LC47gKMLjXP"
      },
      "source": [
        "## Link to visual\n",
        "[Link to Viz](https://public.tableau.com/en-us/gallery/towards-better-climate?tab=viz-of-the-day&type=viz-of-the-day)\n",
        "\n",
        "## Summary\n",
        "\n",
        "The visual is showing the contribution of CO2 emissions per county from 1990 until 2013. A key fearure of this graph is the color coding of countries by their \"income bracket\". There are three representations of this information that the visual provides. \n",
        "1. The Geological representation showing the counties on a world map, with weighted dots representing the magnitude of their emmissions\n",
        "2. A segmented line graph broken out by income bracket showing where the various members of the brackets are on the scale of their contribution. \n",
        "3. A stacked ling graph lumping all countries together, color coded by income brack on a scale of their emissions contribution. \n",
        "\n",
        "Two bits that stick out to me are the following\n",
        "* Japan has the 5th highest contribution of emissions despite being a small country with the 11th highest population.\n",
        "* India has more than 5 times more contribution than the second largest contributer in the lower-middle income bracket.\n",
        "\n",
        "## Concerns\n",
        "\n",
        "1. I'm not a fan of the logirithmic scale on emissions contribution. In my opinion, this opscures the true contributions and nature of the relationship with county income.\n",
        "2. The visual should remove outliers prior to showing summary statistics for the income brakets, as there are few countries which heavily sckew these results. \n",
        "2. The age of the data. The most recent year of study was 2013. It's not trivial to verify that the trends identifies are easily extendable through 2021. This would require more reserch of the users part, making the whole point of the visual somewhat moot. \n",
        "\n",
        "## Recommendations\n",
        "\n",
        "Data about income and how it relates to emissions would be beneficial for the government, banking and activist sectors. Specifically, Chase Bank, which has a large global footprint, could use this money to inform some of its investment strategies in the modern world. \n",
        "\n",
        "1. I recommend that Chase invest in green energy and technology companies in the countries with the hightest emission footprints. It's clear from the visual that emissions are increasing over time and from external research that the costs of emissions to banks are real. This means there is monetary insentive to invest in technologies that mitigate the emissions problem as the visual shows this has an effect on emissions. Moreover, there is peace of mind knowing this is a good investment as total emissions keep trending up.\n",
        "2. I'm out of time but I'm sure there are other good recommendations!!!"
      ]
    }
  ]
}